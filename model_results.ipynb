{
 "cells": [
  {
   "cell_type": "code",
   "execution_count": 1,
   "metadata": {
    "collapsed": true
   },
   "outputs": [],
   "source": [
    "import pandas as pd\n",
    "import numpy as np\n",
    "import matplotlib.pyplot as plt\n",
    "import matplotlib\n",
    "import matplotlib.font_manager as font_manager\n",
    "\n",
    "# Make the font nicer\n",
    "prop = matplotlib.font_manager.FontProperties(fname=\"C:\\WINDOWS\\Fonts\\opensans-light.ttf\")\n",
    "matplotlib.rcParams['font.family'] = prop.get_name()"
   ]
  },
  {
   "cell_type": "markdown",
   "metadata": {},
   "source": [
    "### Load fields for IDing tracts/regions"
   ]
  },
  {
   "cell_type": "code",
   "execution_count": 2,
   "metadata": {},
   "outputs": [],
   "source": [
    "# Load field finder to label things later\n",
    "\n",
    "field_finder = pd.read_csv(\"Field_finder_with_MHQ\", sep='\\t')"
   ]
  },
  {
   "cell_type": "markdown",
   "metadata": {},
   "source": [
    "## Fractional anisotropy\n",
    "\n",
    "### Load FA data and remove rows that represesent intercepts/offsets"
   ]
  },
  {
   "cell_type": "code",
   "execution_count": 3,
   "metadata": {
    "collapsed": true
   },
   "outputs": [],
   "source": [
    "# Load FA model trace\n",
    "fa_summary = pd.read_csv(\"FA_trace_summary.csv\")\n",
    "fa_summary.columns = ['predictor' if 'Unnamed' in i else i for i in fa_summary.columns]\n",
    "\n",
    "# remove boring things\n",
    "fa_summary = fa_summary[~fa_summary.predictor.str.contains('offset')]\n",
    "fa_summary = fa_summary[~fa_summary.predictor.str.contains('_0')]\n",
    "fa_summary = fa_summary[~fa_summary.predictor.str.contains('1\\|')]\n",
    "fa_summary = fa_summary[~fa_summary.predictor.str.contains('_sd')]"
   ]
  },
  {
   "cell_type": "markdown",
   "metadata": {},
   "source": [
    "### Identify \"significant\" tracts\n",
    "\n",
    "Significance doesn't really exist in Bayesian stats, but arbitrary cutoffs are great so we use the Highest Posterior Density (HPD) intervals to indicate significance - these work like confidence intervals so if they don't cross zero we can treat them as meaningful effects"
   ]
  },
  {
   "cell_type": "code",
   "execution_count": 4,
   "metadata": {},
   "outputs": [
    {
     "name": "stderr",
     "output_type": "stream",
     "text": [
      "C:\\Users\\Toby\\Anaconda2\\lib\\site-packages\\ipykernel_launcher.py:5: FutureWarning: currently extract(expand=None) means expand=False (return Index/Series/DataFrame) but in a future version of pandas this will be changed to expand=True (return DataFrame)\n",
      "  \"\"\"\n"
     ]
    }
   ],
   "source": [
    "fa_sig = fa_summary[np.sign(fa_summary['hpd_2.5']) == np.sign(fa_summary['hpd_97.5'])].reset_index()\n",
    "\n",
    "# Get the tract number (the number of the regressor in the model - this corresponds to the order in the input\n",
    "# dataframe)\n",
    "fa_sig['tract_number'] = fa_sig.predictor.str.extract('(\\d+)')\n"
   ]
  },
  {
   "cell_type": "markdown",
   "metadata": {},
   "source": [
    "Currently the tracts are just labelled with meaningless numbers - we want to convert this to the far more meaningful UKBB variable IDs that we started off with"
   ]
  },
  {
   "cell_type": "code",
   "execution_count": 5,
   "metadata": {},
   "outputs": [
    {
     "name": "stderr",
     "output_type": "stream",
     "text": [
      "C:\\Users\\Toby\\Anaconda2\\lib\\site-packages\\ipykernel_launcher.py:5: SettingWithCopyWarning: \n",
      "A value is trying to be set on a copy of a slice from a DataFrame\n",
      "\n",
      "See the caveats in the documentation: http://pandas.pydata.org/pandas-docs/stable/indexing.html#indexing-view-versus-copy\n",
      "  \"\"\"\n"
     ]
    }
   ],
   "source": [
    "tract_ids = pd.read_csv(\"tract_ids.txt\").tract_id.tolist()\n",
    "\n",
    "fa_sig['f.eid'] = None\n",
    "for n, i in enumerate(fa_sig.tract_number.tolist()):\n",
    "    fa_sig['f.eid'][n] = tract_ids[int(i)]"
   ]
  },
  {
   "cell_type": "markdown",
   "metadata": {},
   "source": [
    "And lastly, it would be helpful to give these actual names so we do this by matching these IDs with those in the field finder."
   ]
  },
  {
   "cell_type": "code",
   "execution_count": 6,
   "metadata": {},
   "outputs": [
    {
     "name": "stdout",
     "output_type": "stream",
     "text": [
      "   index             predictor      mean        sd  mc_error   hpd_2.5  \\\n",
      "0    449   adult_risk|tract__5  0.023050  0.006190  0.000619  0.013247   \n",
      "1    450   adult_risk|tract__6 -0.009623  0.004293  0.000429 -0.020900   \n",
      "2    486  adult_risk|tract__42 -0.007203  0.004367  0.000437 -0.016055   \n",
      "3    490  adult_risk|tract__46  0.013393  0.005108  0.000511  0.001187   \n",
      "\n",
      "   hpd_97.5 tract_number        f.eid     1  \\\n",
      "0  0.037924            5  f.25061.2.0  8379   \n",
      "1 -0.002737            6  f.25062.2.0  8380   \n",
      "2 -0.000499           42  f.25098.2.0  8416   \n",
      "3  0.022262           46  f.25102.2.0  8420   \n",
      "\n",
      "                                                  ID  \n",
      "0               Mean.FA.in.fornix.on.FA.skeleton.2.0  \n",
      "1  Mean.FA.in.corticospinal.tract.on.FA.skeleton....  \n",
      "2  Mean.FA.in.superior.fronto.occipital.fasciculu...  \n",
      "3        Mean.FA.in.tapetum.on.FA.skeleton.right.2.0  \n"
     ]
    }
   ],
   "source": [
    "fa_sig_fields = pd.merge(fa_sig, field_finder, on='f.eid')\n",
    "print fa_sig_fields\n"
   ]
  },
  {
   "cell_type": "markdown",
   "metadata": {},
   "source": [
    "And then use some regex and replacements to make these more readable"
   ]
  },
  {
   "cell_type": "code",
   "execution_count": 7,
   "metadata": {},
   "outputs": [
    {
     "name": "stdout",
     "output_type": "stream",
     "text": [
      "   index             predictor      mean        sd  mc_error   hpd_2.5  \\\n",
      "0    449   adult_risk|tract__5  0.023050  0.006190  0.000619  0.013247   \n",
      "1    450   adult_risk|tract__6 -0.009623  0.004293  0.000429 -0.020900   \n",
      "2    486  adult_risk|tract__42 -0.007203  0.004367  0.000437 -0.016055   \n",
      "3    490  adult_risk|tract__46  0.013393  0.005108  0.000511  0.001187   \n",
      "\n",
      "   hpd_97.5 tract_number        f.eid     1  \\\n",
      "0  0.037924            5  f.25061.2.0  8379   \n",
      "1 -0.002737            6  f.25062.2.0  8380   \n",
      "2 -0.000499           42  f.25098.2.0  8416   \n",
      "3  0.022262           46  f.25102.2.0  8420   \n",
      "\n",
      "                                                  ID  \\\n",
      "0               Mean.FA.in.fornix.on.FA.skeleton.2.0   \n",
      "1  Mean.FA.in.corticospinal.tract.on.FA.skeleton....   \n",
      "2  Mean.FA.in.superior.fronto.occipital.fasciculu...   \n",
      "3        Mean.FA.in.tapetum.on.FA.skeleton.right.2.0   \n",
      "\n",
      "                                  Tract  \n",
      "0                                fornix  \n",
      "1                   corticospinal tract  \n",
      "2  superior fronto occipital fasciculus  \n",
      "3                               tapetum  \n"
     ]
    },
    {
     "name": "stderr",
     "output_type": "stream",
     "text": [
      "C:\\Users\\Toby\\Anaconda2\\lib\\site-packages\\ipykernel_launcher.py:1: FutureWarning: currently extract(expand=None) means expand=False (return Index/Series/DataFrame) but in a future version of pandas this will be changed to expand=True (return DataFrame)\n",
      "  \"\"\"Entry point for launching an IPython kernel.\n"
     ]
    }
   ],
   "source": [
    "fa_sig_fields['Tract'] = fa_sig_fields['ID'].str.extract('(?<=in\\.)([a-zA-Z.].*?(?=\\.on))')\n",
    "fa_sig_fields['Tract'] = fa_sig_fields['Tract'].str.replace('.', ' ')\n",
    "print fa_sig_fields\n"
   ]
  },
  {
   "cell_type": "markdown",
   "metadata": {},
   "source": [
    "### Plots\n",
    "\n",
    "This plot shows the means of the parameter estimates with the 2.5% and 97.5% HPD intervals."
   ]
  },
  {
   "cell_type": "code",
   "execution_count": 8,
   "metadata": {},
   "outputs": [
    {
     "data": {
      "text/plain": [
       "<matplotlib.figure.Figure at 0xb7bdd30>"
      ]
     },
     "metadata": {},
     "output_type": "display_data"
    },
    {
     "data": {
      "image/png": "[encoded data removed]",
      "text/plain": [
       "<matplotlib.figure.Figure at 0x81d67b8>"
      ]
     },
     "metadata": {},
     "output_type": "display_data"
    }
   ],
   "source": [
    "plt.clf()\n",
    "plt.figure(figsize=(8, 6))\n",
    "plt.scatter('mean', 'Tract', label=None, data=fa_sig_fields)\n",
    "plt.errorbar('mean', 'Tract', xerr=[fa_sig_fields['mean'] - fa_sig_fields['hpd_2.5'], \n",
    "                                     fa_sig_fields['hpd_97.5'] -  fa_sig_fields['mean']],\n",
    "             fmt='none', label=None, data=fa_sig_fields)\n",
    "plt.xlabel(\"Beta\")\n",
    "plt.ylabel(\"Tract\")\n",
    "plt.axvline(0, linestyle=':', c='grey')\n",
    "plt.tight_layout()\n",
    "plt.show()"
   ]
  },
  {
   "cell_type": "markdown",
   "metadata": {},
   "source": [
    "## Grey matter volume\n",
    "\n",
    "### Load GMV data"
   ]
  },
  {
   "cell_type": "code",
   "execution_count": 9,
   "metadata": {
    "collapsed": true
   },
   "outputs": [],
   "source": [
    "gmv_summary = pd.read_csv(\"GMV_trace_summary.csv\")\n",
    "gmv_summary.columns = ['predictor' if 'Unnamed' in i else i for i in gmv_summary.columns]\n",
    "\n",
    "# remove boring things\n",
    "gmv_summary = gmv_summary[~gmv_summary.predictor.str.contains('offset')]\n",
    "gmv_summary = gmv_summary[~gmv_summary.predictor.str.contains('_0')]\n",
    "gmv_summary = gmv_summary[~gmv_summary.predictor.str.contains('1\\|')]\n",
    "gmv_summary = gmv_summary[~gmv_summary.predictor.str.contains('_sd')]"
   ]
  },
  {
   "cell_type": "markdown",
   "metadata": {},
   "source": [
    "### Find significant results"
   ]
  },
  {
   "cell_type": "code",
   "execution_count": 10,
   "metadata": {},
   "outputs": [
    {
     "name": "stderr",
     "output_type": "stream",
     "text": [
      "C:\\Users\\Toby\\Anaconda2\\lib\\site-packages\\ipykernel_launcher.py:3: FutureWarning: currently extract(expand=None) means expand=False (return Index/Series/DataFrame) but in a future version of pandas this will be changed to expand=True (return DataFrame)\n",
      "  This is separate from the ipykernel package so we can avoid doing imports until\n",
      "C:\\Users\\Toby\\Anaconda2\\lib\\site-packages\\ipykernel_launcher.py:9: SettingWithCopyWarning: \n",
      "A value is trying to be set on a copy of a slice from a DataFrame\n",
      "\n",
      "See the caveats in the documentation: http://pandas.pydata.org/pandas-docs/stable/indexing.html#indexing-view-versus-copy\n",
      "  if __name__ == '__main__':\n"
     ]
    }
   ],
   "source": [
    "gmv_sig = gmv_summary[np.sign(gmv_summary['hpd_2.5']) == np.sign(gmv_summary['hpd_97.5'])].reset_index()\n",
    "\n",
    "gmv_sig['region_number'] = gmv_sig.predictor.str.extract('(\\d+)')\n",
    "\n",
    "region_ids = pd.read_csv(\"region_ids.txt\").region_id.tolist()\n",
    "\n",
    "gmv_sig['f.eid'] = None\n",
    "for n, i in enumerate(gmv_sig.region_number.tolist()):\n",
    "    gmv_sig['f.eid'][n] = region_ids[int(i)]\n"
   ]
  },
  {
   "cell_type": "markdown",
   "metadata": {},
   "source": [
    "### Rename things"
   ]
  },
  {
   "cell_type": "code",
   "execution_count": 11,
   "metadata": {},
   "outputs": [
    {
     "name": "stdout",
     "output_type": "stream",
     "text": [
      "    index               predictor      mean        sd  mc_error   hpd_2.5  \\\n",
      "0    1399    adult_risk|region__1 -0.006934  0.003495  0.000350 -0.013933   \n",
      "1    1411   adult_risk|region__13  0.006753  0.003321  0.000332  0.001536   \n",
      "2    1412   adult_risk|region__14 -0.051512  0.006091  0.000609 -0.062485   \n",
      "3    1413   adult_risk|region__15 -0.028283  0.003754  0.000375 -0.034869   \n",
      "4    1414   adult_risk|region__16 -0.033322  0.004341  0.000434 -0.042302   \n",
      "5    1418   adult_risk|region__20 -0.007024  0.003593  0.000359 -0.013890   \n",
      "6    1419   adult_risk|region__21 -0.013553  0.003507  0.000351 -0.020084   \n",
      "7    1420   adult_risk|region__22 -0.016786  0.003573  0.000357 -0.023774   \n",
      "8    1424   adult_risk|region__26  0.006650  0.003158  0.000316  0.000527   \n",
      "9    1425   adult_risk|region__27 -0.010958  0.003448  0.000345 -0.018369   \n",
      "10   1426   adult_risk|region__28 -0.010779  0.003131  0.000313 -0.018154   \n",
      "11   1428   adult_risk|region__30 -0.006455  0.003469  0.000347 -0.013416   \n",
      "12   1455   adult_risk|region__57 -0.013986  0.003123  0.000312 -0.018912   \n",
      "13   1456   adult_risk|region__58 -0.015436  0.003522  0.000352 -0.021727   \n",
      "14   1458   adult_risk|region__60 -0.009527  0.003800  0.000380 -0.017151   \n",
      "15   1471   adult_risk|region__73 -0.006454  0.002998  0.000300 -0.012804   \n",
      "16   1473   adult_risk|region__75 -0.008832  0.003357  0.000336 -0.015056   \n",
      "17   1483   adult_risk|region__85 -0.007899  0.003034  0.000303 -0.013359   \n",
      "18   1484   adult_risk|region__86 -0.011627  0.003345  0.000335 -0.018392   \n",
      "19   1494   adult_risk|region__96  0.006996  0.003262  0.000326  0.001903   \n",
      "20   1499  adult_risk|region__101  0.006822  0.003637  0.000364  0.000294   \n",
      "21   1502  adult_risk|region__104  0.006601  0.003406  0.000341  0.000290   \n",
      "22   1504  adult_risk|region__106  0.006749  0.003477  0.000348  0.002258   \n",
      "23   1505  adult_risk|region__107  0.006446  0.003521  0.000352  0.001620   \n",
      "24   1508  adult_risk|region__110 -0.009206  0.003425  0.000343 -0.016842   \n",
      "25   1515  adult_risk|region__117  0.007843  0.003048  0.000305  0.002371   \n",
      "26   1516  adult_risk|region__118  0.007779  0.003045  0.000305  0.001283   \n",
      "27   1532  adult_risk|region__134  0.008056  0.003641  0.000364  0.001541   \n",
      "28   1533  adult_risk|region__135 -0.011852  0.003544  0.000354 -0.018724   \n",
      "29   1535  adult_risk|region__137  0.007966  0.003248  0.000325  0.001749   \n",
      "30   1537  adult_risk|region__139  0.006193  0.002976  0.000298  0.000113   \n",
      "31   1538  adult_risk|region__140  0.008448  0.003784  0.000378  0.001562   \n",
      "32   1541  adult_risk|region__143  0.008162  0.003188  0.000319  0.002042   \n",
      "33   1548  adult_risk|region__150  0.006078  0.003226  0.000323  0.001620   \n",
      "34   1551  adult_risk|region__153  0.007053  0.003356  0.000336  0.000182   \n",
      "\n",
      "    hpd_97.5 region_number        f.eid     1  \\\n",
      "0  -0.001027             1  f.25012.2.0  8338   \n",
      "1   0.013014            13  f.25024.2.0  8350   \n",
      "2  -0.039381            14  f.25025.2.0  8351   \n",
      "3  -0.020480            15  f.25782.2.0  9072   \n",
      "4  -0.025378            16  f.25783.2.0  9073   \n",
      "5  -0.001200            20  f.25787.2.0  9077   \n",
      "6  -0.006666            21  f.25788.2.0  9078   \n",
      "7  -0.010425            22  f.25789.2.0  9079   \n",
      "8   0.012706            26  f.25793.2.0  9083   \n",
      "9  -0.004888            27  f.25794.2.0  9084   \n",
      "10 -0.004762            28  f.25795.2.0  9085   \n",
      "11 -0.000613            30  f.25797.2.0  9087   \n",
      "12 -0.007387            57  f.25824.2.0  9114   \n",
      "13 -0.009400            58  f.25825.2.0  9115   \n",
      "14 -0.002094            60  f.25827.2.0  9117   \n",
      "15 -0.001147            73  f.25840.2.0  9130   \n",
      "16 -0.002160            75  f.25842.2.0  9132   \n",
      "17 -0.002457            85  f.25852.2.0  9142   \n",
      "18 -0.005720            86  f.25853.2.0  9143   \n",
      "19  0.013815            96  f.25863.2.0  9153   \n",
      "20  0.015073           101  f.25868.2.0  9158   \n",
      "21  0.013427           104  f.25871.2.0  9161   \n",
      "22  0.015510           106  f.25873.2.0  9163   \n",
      "23  0.015228           107  f.25874.2.0  9164   \n",
      "24 -0.002484           110  f.25877.2.0  9167   \n",
      "25  0.013481           117  f.25884.2.0  9174   \n",
      "26  0.012809           118  f.25885.2.0  9175   \n",
      "27  0.015073           134  f.25901.2.0  9191   \n",
      "28 -0.004385           135  f.25902.2.0  9192   \n",
      "29  0.013959           137  f.25904.2.0  9194   \n",
      "30  0.011606           139  f.25906.2.0  9196   \n",
      "31  0.014448           140  f.25907.2.0  9197   \n",
      "32  0.014147           143  f.25910.2.0  9200   \n",
      "33  0.014294           150  f.25917.2.0  9207   \n",
      "34  0.012990           153  f.25920.2.0  9210   \n",
      "\n",
      "                                                   ID  \\\n",
      "0                        Volume.of.thalamus.right.2.0   \n",
      "1                       Volume.of.accumbens.right.2.0   \n",
      "2              Volume.of.brain.stem.4th.ventricle.2.0   \n",
      "3      Volume.of.grey.matter.in.Frontal.Pole.left.2.0   \n",
      "4     Volume.of.grey.matter.in.Frontal.Pole.right.2.0   \n",
      "5   Volume.of.grey.matter.in.Superior.Frontal.Gyru...   \n",
      "6   Volume.of.grey.matter.in.Middle.Frontal.Gyrus....   \n",
      "7   Volume.of.grey.matter.in.Middle.Frontal.Gyrus....   \n",
      "8   Volume.of.grey.matter.in.Inferior.Frontal.Gyru...   \n",
      "9   Volume.of.grey.matter.in.Precentral.Gyrus.left...   \n",
      "10  Volume.of.grey.matter.in.Precentral.Gyrus.righ...   \n",
      "11   Volume.of.grey.matter.in.Temporal.Pole.right.2.0   \n",
      "12  Volume.of.grey.matter.in.Lateral.Occipital.Cor...   \n",
      "13  Volume.of.grey.matter.in.Lateral.Occipital.Cor...   \n",
      "14  Volume.of.grey.matter.in.Lateral.Occipital.Cor...   \n",
      "15  Volume.of.grey.matter.in.Cingulate.Gyrus.poste...   \n",
      "16  Volume.of.grey.matter.in.Precuneous.Cortex.lef...   \n",
      "17    Volume.of.grey.matter.in.Lingual.Gyrus.left.2.0   \n",
      "18   Volume.of.grey.matter.in.Lingual.Gyrus.right.2.0   \n",
      "19  Volume.of.grey.matter.in.Frontal.Operculum.Cor...   \n",
      "20  Volume.of.grey.matter.in.Parietal.Operculum.Co...   \n",
      "21  Volume.of.grey.matter.in.Heschl.s.Gyrus.includ...   \n",
      "22  Volume.of.grey.matter.in.Planum.Temporale.righ...   \n",
      "23  Volume.of.grey.matter.in.Supracalcarine.Cortex...   \n",
      "24  Volume.of.grey.matter.in.Occipital.Pole.right.2.0   \n",
      "25         Volume.of.grey.matter.in.Pallidum.left.2.0   \n",
      "26        Volume.of.grey.matter.in.Pallidum.right.2.0   \n",
      "27  Volume.of.grey.matter.in.Vermis.Crus.I.Cerebel...   \n",
      "28  Volume.of.grey.matter.in.Crus.I.Cerebellum.rig...   \n",
      "29  Volume.of.grey.matter.in.Vermis.Crus.II.Cerebe...   \n",
      "30  Volume.of.grey.matter.in.VIIb.Cerebellum.left.2.0   \n",
      "31  Volume.of.grey.matter.in.Vermis.VIIb.Cerebellu...   \n",
      "32  Volume.of.grey.matter.in.Vermis.VIIIa.Cerebell...   \n",
      "33   Volume.of.grey.matter.in.IX.Cerebellum.right.2.0   \n",
      "34    Volume.of.grey.matter.in.X.Cerebellum.right.2.0   \n",
      "\n",
      "                                               Region  \n",
      "0                           Volume of thalamus right   \n",
      "1                          Volume of accumbens right   \n",
      "2                               Volume of brain stem   \n",
      "3                                  Frontal Pole left   \n",
      "4                                 Frontal Pole right   \n",
      "5                       Superior Frontal Gyrus right   \n",
      "6                          Middle Frontal Gyrus left   \n",
      "7                         Middle Frontal Gyrus right   \n",
      "8      Inferior Frontal Gyrus pars opercularis right   \n",
      "9                              Precentral Gyrus left   \n",
      "10                            Precentral Gyrus right   \n",
      "11                               Temporal Pole right   \n",
      "12   Lateral Occipital Cortex superior division left   \n",
      "13  Lateral Occipital Cortex superior division right   \n",
      "14  Lateral Occipital Cortex inferior division right   \n",
      "15           Cingulate Gyrus posterior division left   \n",
      "16                            Precuneous Cortex left   \n",
      "17                                Lingual Gyrus left   \n",
      "18                               Lingual Gyrus right   \n",
      "19                    Frontal Operculum Cortex right   \n",
      "20                   Parietal Operculum Cortex right   \n",
      "21                                     Heschl's Gyrus  \n",
      "22                            Planum Temporale right   \n",
      "23                        Supracalcarine Cortex left   \n",
      "24                              Occipital Pole right   \n",
      "25                                     Pallidum left   \n",
      "26                                    Pallidum right   \n",
      "27                          Vermis Crus I Cerebellum   \n",
      "28                           Crus I Cerebellum right   \n",
      "29                         Vermis Crus II Cerebellum   \n",
      "30                              VIIb Cerebellum left   \n",
      "31                            Vermis VIIb Cerebellum   \n",
      "32                           Vermis VIIIa Cerebellum   \n",
      "33                               IX Cerebellum right   \n",
      "34                                X Cerebellum right   \n"
     ]
    },
    {
     "name": "stderr",
     "output_type": "stream",
     "text": [
      "C:\\Users\\Toby\\Anaconda2\\lib\\site-packages\\ipykernel_launcher.py:4: FutureWarning: currently extract(expand=None) means expand=False (return Index/Series/DataFrame) but in a future version of pandas this will be changed to expand=True (return DataFrame)\n",
      "  after removing the cwd from sys.path.\n"
     ]
    }
   ],
   "source": [
    "gmv_sig_fields = pd.merge(gmv_sig, field_finder, on='f.eid')\n",
    "\n",
    "gmv_sig_fields['Region'] = gmv_sig_fields['ID'].str.replace('Volume.of.grey.matter.in.', '')\n",
    "gmv_sig_fields['Region'] = gmv_sig_fields['Region'].str.extract('([a-zA-Z.]+)')\n",
    "gmv_sig_fields['Region'] = gmv_sig_fields['Region'].str.replace('.', ' ')\n",
    "gmv_sig_fields['Region'] = gmv_sig_fields['Region'].str.replace('Heschl s Gyrus includes H', \"Heschl's Gyrus\")\n",
    "\n",
    "print gmv_sig_fields"
   ]
  },
  {
   "cell_type": "code",
   "execution_count": 12,
   "metadata": {},
   "outputs": [
    {
     "data": {
      "text/plain": [
       "<matplotlib.figure.Figure at 0xbae94e0>"
      ]
     },
     "metadata": {},
     "output_type": "display_data"
    },
    {
     "data": {
      "image/png": "[encoded data removed]",
      "text/plain": [
       "<matplotlib.figure.Figure at 0xbaf9668>"
      ]
     },
     "metadata": {},
     "output_type": "display_data"
    }
   ],
   "source": [
    "plt.clf()\n",
    "plt.figure(figsize=(8, 8))\n",
    "plt.scatter('mean', 'Region', label=None, data=gmv_sig_fields)\n",
    "plt.errorbar('mean', 'Region', xerr=[gmv_sig_fields['mean'] - gmv_sig_fields['hpd_2.5'], \n",
    "                                     gmv_sig_fields['hpd_97.5'] -  gmv_sig_fields['mean']],\n",
    "             fmt='none', label=None, data=gmv_sig_fields)\n",
    "plt.xlabel(\"Beta\")\n",
    "plt.ylabel(\"Region\")\n",
    "plt.axvline(0, linestyle=':', c='grey')\n",
    "plt.tight_layout()\n",
    "plt.show()"
   ]
  }
 ],
 "metadata": {
  "kernelspec": {
   "display_name": "Python 2",
   "language": "python",
   "name": "python2"
  },
  "language_info": {
   "codemirror_mode": {
    "name": "ipython",
    "version": 2
   },
   "file_extension": ".py",
   "mimetype": "text/x-python",
   "name": "python",
   "nbconvert_exporter": "python",
   "pygments_lexer": "ipython2",
   "version": "2.7.14"
  }
 },
 "nbformat": 4,
 "nbformat_minor": 2
}
